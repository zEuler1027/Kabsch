{
 "cells": [
  {
   "cell_type": "code",
   "execution_count": 7,
   "metadata": {},
   "outputs": [],
   "source": [
    "from rdkit import Chem\n",
    "from rdkit.Chem import AllChem\n",
    "import numpy as np\n",
    "from kabsch import kabsch_numpy\n",
    "\n",
    "def generate_methanol(seed: int):\n",
    "    # 1. 根据SMILES创建分子\n",
    "    smiles = 'CO'  # 甲醇的SMILES\n",
    "    mol = Chem.MolFromSmiles(smiles)\n",
    "    # 2. 添加H原子\n",
    "    mol = Chem.AddHs(mol)\n",
    "    # 3. 生成三维坐标\n",
    "    mol1 = AllChem.EmbedMolecule(mol, randomSeed=seed)\n",
    "    # 4. 优化几何结构\n",
    "    AllChem.UFFOptimizeMolecule(mol)\n",
    "    \n",
    "    return mol\n",
    "\n",
    "def get_coords(mol: Chem.Mol):\n",
    "    coords = []\n",
    "    conf = mol.GetConformer()\n",
    "    print(f\"Number of atoms: {mol.GetNumAtoms()}\")\n",
    "    # 打印坐标信息\n",
    "    for i, atom in enumerate(mol.GetAtoms()):\n",
    "        pos = conf.GetAtomPosition(i)\n",
    "        print(f\"Atom {atom.GetSymbol()} {i}: {pos.x:.2f}, {pos.y:.2f}, {pos.z:.2f}\")\n",
    "        coords.append(np.array([pos.x, pos.y, pos.z]))\n",
    "\n",
    "    return np.array(coords)\n"
   ]
  },
  {
   "cell_type": "code",
   "execution_count": 8,
   "metadata": {},
   "outputs": [
    {
     "name": "stdout",
     "output_type": "stream",
     "text": [
      "Number of atoms: 6\n",
      "Atom C 0: -0.36, 0.01, -0.02\n",
      "Atom O 1: 0.91, -0.53, -0.26\n",
      "Atom H 2: -0.55, 0.07, 1.07\n",
      "Atom H 3: -0.43, 1.02, -0.48\n",
      "Atom H 4: -1.13, -0.65, -0.48\n",
      "Atom H 5: 1.56, 0.08, 0.17\n",
      "Number of atoms: 6\n",
      "Atom C 0: -0.36, 0.00, -0.02\n",
      "Atom O 1: 0.92, -0.53, -0.24\n",
      "Atom H 2: -0.55, 0.11, 1.07\n",
      "Atom H 3: -0.44, 0.99, -0.52\n",
      "Atom H 4: -1.12, -0.68, -0.46\n",
      "Atom H 5: 1.55, 0.11, 0.17\n"
     ]
    }
   ],
   "source": [
    "mol1 = generate_methanol(42)\n",
    "P = get_coords(mol1)\n",
    "mol2 = generate_methanol(47)\n",
    "Q = get_coords(mol2)\n"
   ]
  },
  {
   "cell_type": "code",
   "execution_count": 9,
   "metadata": {},
   "outputs": [
    {
     "name": "stdout",
     "output_type": "stream",
     "text": [
      "P: [[-0.35770023  0.00759022 -0.02148174]\n",
      " [ 0.90873557 -0.53499245 -0.26111898]\n",
      " [-0.54683347  0.07179144  1.07210873]\n",
      " [-0.43376811  1.01934375 -0.47579473]\n",
      " [-1.12699742 -0.64793055 -0.47895646]\n",
      " [ 1.55656366  0.08419759  0.16524319]]\n",
      "Q: [[ 1.21105579  0.25292646 -0.59910266]\n",
      " [ 0.3647015   0.21101923 -1.71158191]\n",
      " [ 0.6190353   0.41775761  0.32727401]\n",
      " [ 1.78226174 -0.69712487 -0.51568857]\n",
      " [ 1.92790993  1.09117657 -0.7185453 ]\n",
      " [-0.2527862  -0.55029977 -1.55677488]]\n"
     ]
    }
   ],
   "source": [
    "def random_rotation_matrix(dim=3):\n",
    "    # 随机生成一个方阵\n",
    "    random_matrix = np.random.randn(dim, dim)\n",
    "    # 使用QR分解生成一个正交矩阵\n",
    "    q, r = np.linalg.qr(random_matrix)\n",
    "    # 为确保行列式为 1，调整符号\n",
    "    d = np.linalg.det(q)\n",
    "    q = q * np.sign(d)\n",
    "    \n",
    "    return q\n",
    "\n",
    "R_random = random_rotation_matrix()\n",
    "t = np.random.randn(3)\n",
    "Q = Q @ R_random + t\n",
    "\n",
    "print('P:', P)\n",
    "print('Q:', Q)\n"
   ]
  },
  {
   "cell_type": "code",
   "execution_count": 10,
   "metadata": {},
   "outputs": [
    {
     "name": "stdout",
     "output_type": "stream",
     "text": [
      "2.406919937051122\n"
     ]
    }
   ],
   "source": [
    "def rmsd(P, Q):\n",
    "    return np.sqrt(np.mean(np.sum((P - Q) ** 2, axis=1)))\n",
    "print(rmsd(P, Q))\n"
   ]
  },
  {
   "cell_type": "code",
   "execution_count": 11,
   "metadata": {},
   "outputs": [
    {
     "name": "stdout",
     "output_type": "stream",
     "text": [
      "1.8810497549980157e-06\n"
     ]
    }
   ],
   "source": [
    "R_, t_, rmsd = kabsch_numpy(P, Q)\n",
    "print(rmsd)"
   ]
  },
  {
   "cell_type": "code",
   "execution_count": null,
   "metadata": {},
   "outputs": [],
   "source": []
  }
 ],
 "metadata": {
  "kernelspec": {
   "display_name": "base",
   "language": "python",
   "name": "python3"
  },
  "language_info": {
   "codemirror_mode": {
    "name": "ipython",
    "version": 3
   },
   "file_extension": ".py",
   "mimetype": "text/x-python",
   "name": "python",
   "nbconvert_exporter": "python",
   "pygments_lexer": "ipython3",
   "version": "3.11.9"
  }
 },
 "nbformat": 4,
 "nbformat_minor": 2
}
